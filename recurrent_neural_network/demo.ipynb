{
 "cells": [
  {
   "cell_type": "code",
   "execution_count": 1,
   "id": "2676280d",
   "metadata": {},
   "outputs": [],
   "source": [
    "import torch\n",
    "import torch.nn.functional as F\n",
    "import matplotlib.pyplot as plt\n",
    "%matplotlib inline"
   ]
  },
  {
   "cell_type": "code",
   "execution_count": 2,
   "id": "15cde6f4",
   "metadata": {},
   "outputs": [
    {
     "data": {
      "text/plain": [
       "['emma', 'olivia', 'ava', 'isabella', 'sophia', 'charlotte', 'mia', 'amelia']"
      ]
     },
     "execution_count": 2,
     "metadata": {},
     "output_type": "execute_result"
    }
   ],
   "source": [
    "words = open('names.txt', 'r').read().splitlines()\n",
    "words[:8]"
   ]
  },
  {
   "cell_type": "code",
   "execution_count": 3,
   "id": "653bec2c",
   "metadata": {},
   "outputs": [
    {
     "name": "stdout",
     "output_type": "stream",
     "text": [
      "{1: 'a', 2: 'b', 3: 'c', 4: 'd', 5: 'e', 6: 'f', 7: 'g', 8: 'h', 9: 'i', 10: 'j', 11: 'k', 12: 'l', 13: 'm', 14: 'n', 15: 'o', 16: 'p', 17: 'q', 18: 'r', 19: 's', 20: 't', 21: 'u', 22: 'v', 23: 'w', 24: 'x', 25: 'y', 26: 'z', 0: '.'}\n"
     ]
    }
   ],
   "source": [
    "# build a vocabulary of unique characters and map them from/to integers\n",
    "chars = sorted(list(set(''.join(words))))\n",
    "stoi = {ch: i + 1 for i, ch in enumerate(chars)}  # 1-indexed\n",
    "stoi['.'] = 0  \n",
    "itos = {i: ch for ch, i in stoi.items()}  # 0-indexed\n",
    "vocab_size = len(stoi)\n",
    "print(itos)"
   ]
  },
  {
   "cell_type": "code",
   "execution_count": 4,
   "id": "d4150200",
   "metadata": {},
   "outputs": [
    {
     "name": "stdout",
     "output_type": "stream",
     "text": [
      "torch.Size([182625, 3]) torch.Size([182625])\n",
      "torch.Size([22655, 3]) torch.Size([22655])\n",
      "torch.Size([22866, 3]) torch.Size([22866])\n"
     ]
    }
   ],
   "source": [
    "# building the dataset\n",
    "block_size = 3 # context length: how many characters do we take to predict the next one?\n",
    "\n",
    "def build_dataset(words):  \n",
    "  X, Y = [], []\n",
    "\n",
    "  for w in words:\n",
    "    context = [0] * block_size\n",
    "    for ch in w + '.':\n",
    "      ix = stoi[ch]\n",
    "      X.append(context)\n",
    "      Y.append(ix)\n",
    "      context = context[1:] + [ix] # crop and append\n",
    "\n",
    "  X = torch.tensor(X)\n",
    "  Y = torch.tensor(Y)\n",
    "  print(X.shape, Y.shape)\n",
    "  return X, Y\n",
    "\n",
    "import random\n",
    "random.seed(42)\n",
    "random.shuffle(words)\n",
    "n1 = int(0.8*len(words))\n",
    "n2 = int(0.9*len(words))\n",
    "\n",
    "Xtr, Ytr = build_dataset(words[:n1]) # 80%\n",
    "Xdev, Ydev = build_dataset(words[n1:n2]) # 10%\n",
    "Xte, Yte = build_dataset(words[n2:]) # 10%"
   ]
  },
  {
   "cell_type": "code",
   "execution_count": 5,
   "id": "d67af09e",
   "metadata": {},
   "outputs": [],
   "source": [
    "# UTILITES FUNCTIONS\n",
    "\n",
    "def train_nn():\n",
    "  # same optimization as last time\n",
    "  max_steps = 200000\n",
    "  batch_size = 32\n",
    "  lossi = []\n",
    "\n",
    "  for i in range(max_steps):\n",
    "    # minibatch construct\n",
    "    ix = torch.randint(0, Xtr.shape[0], (batch_size,), generator=g)\n",
    "    Xb, Yb = Xtr[ix], Ytr[ix] # batch X,Y\n",
    "    \n",
    "    # forward pass\n",
    "    emb = C[Xb] # embed the characters into vectors\n",
    "    embcat = emb.view(emb.shape[0], -1) # concatenate the vectors\n",
    "    hpreact = embcat @ W1 + b1 # hidden layer pre-activation\n",
    "    h = torch.tanh(hpreact) # hidden layer\n",
    "    logits = h @ W2 + b2 # output layer\n",
    "    loss = F.cross_entropy(logits, Yb) # loss function\n",
    "    \n",
    "    # backward pass\n",
    "    for p in parameters:\n",
    "      p.grad = None\n",
    "    loss.backward()\n",
    "    \n",
    "    # update\n",
    "    lr = 0.1 if i < 100000 else 0.01 # step learning rate decay\n",
    "    for p in parameters:\n",
    "      p.data += -lr * p.grad\n",
    "\n",
    "    # track stats\n",
    "    if i % 10000 == 0: # print every once in a while\n",
    "      print(f'{i:7d}/{max_steps:7d}: {loss.item():.4f}')\n",
    "    lossi.append(loss.log10().item())\n",
    "\n",
    "def evaluate_nn():\n",
    "  @torch.no_grad() # this decorator disables gradient tracking\n",
    "  def split_loss(split):\n",
    "    x,y = {\n",
    "      'train': (Xtr, Ytr),\n",
    "      'val': (Xdev, Ydev),\n",
    "      'test': (Xte, Yte),\n",
    "    }[split]\n",
    "    emb = C[x] # (N, block_size, n_embd)\n",
    "    embcat = emb.view(emb.shape[0], -1) # concat into (N, block_size * n_embd)\n",
    "    h = torch.tanh(embcat @ W1 + b1) # (N, n_hidden)\n",
    "    logits = h @ W2 + b2 # (N, vocab_size)\n",
    "    loss = F.cross_entropy(logits, y)\n",
    "    print(split, loss.item())\n",
    "\n",
    "  split_loss('train')\n",
    "  split_loss('val')\n",
    "\n",
    "def sample_from_nn():\n",
    "  # sample from the model\n",
    "  g = torch.Generator().manual_seed(2147483647 + 10)\n",
    "\n",
    "  for _ in range(20):\n",
    "      out = []\n",
    "      context = [0] * block_size # initialize with all ...\n",
    "      \n",
    "      while True:\n",
    "        # forward pass the neural net\n",
    "        emb = C[torch.tensor([context])] # (1,block_size,n_embd)\n",
    "        h = torch.tanh(emb.view(1, -1) @ W1 + b1)\n",
    "        logits = h @ W2 + b2\n",
    "        probs = F.softmax(logits, dim=1)\n",
    "        # sample from the distribution\n",
    "        ix = torch.multinomial(probs, num_samples=1, generator=g).item()\n",
    "        # shift the context window and track the samples\n",
    "        context = context[1:] + [ix]\n",
    "        out.append(ix)\n",
    "        # if we sample the end of the word, break\n",
    "        if ix == 0:\n",
    "          break\n",
    "      \n",
    "      print(''.join(itos[i] for i in out))"
   ]
  },
  {
   "cell_type": "code",
   "execution_count": null,
   "id": "0bc99fdc",
   "metadata": {},
   "outputs": [
    {
     "name": "stdout",
     "output_type": "stream",
     "text": [
      "11897\n"
     ]
    }
   ],
   "source": [
    "# MLP revisited v1\n",
    "n_embd = 10 # the dimensionality of the character embedding vectors\n",
    "n_hidden = 200 # the number of neurons in the hidden layer of the MLP\n",
    "\n",
    "g = torch.Generator().manual_seed(2147483647) # for reproducibility\n",
    "C  = torch.randn((vocab_size, n_embd),            generator=g)\n",
    "W1 = torch.randn((n_embd * block_size, n_hidden), generator=g) \n",
    "b1 = torch.randn(n_hidden,                        generator=g)\n",
    "W2 = torch.randn((n_hidden, vocab_size),          generator=g) \n",
    "b2 = torch.randn(vocab_size,                      generator=g) \n",
    "\n",
    "parameters = [C, W1, b1, W2, b2]\n",
    "print(sum(p.nelement() for p in parameters)) # number of parameters in total\n",
    "for p in parameters:\n",
    "  p.requires_grad = True"
   ]
  },
  {
   "cell_type": "code",
   "execution_count": null,
   "id": "69229886",
   "metadata": {},
   "outputs": [
    {
     "name": "stdout",
     "output_type": "stream",
     "text": [
      "      0/ 200000: 27.8817\n",
      "  10000/ 200000: 2.8050\n",
      "  20000/ 200000: 2.5518\n",
      "  30000/ 200000: 2.8035\n",
      "  40000/ 200000: 2.0476\n",
      "  50000/ 200000: 2.7033\n",
      "  60000/ 200000: 2.3179\n",
      "  70000/ 200000: 2.0966\n",
      "  80000/ 200000: 2.3344\n",
      "  90000/ 200000: 2.2155\n",
      " 100000/ 200000: 2.0712\n",
      " 110000/ 200000: 2.4086\n",
      " 120000/ 200000: 1.8661\n",
      " 130000/ 200000: 2.3103\n",
      " 140000/ 200000: 2.2350\n",
      " 150000/ 200000: 2.1742\n",
      " 160000/ 200000: 2.1190\n",
      " 170000/ 200000: 1.7579\n",
      " 180000/ 200000: 2.0183\n",
      " 190000/ 200000: 1.8186\n"
     ]
    }
   ],
   "source": [
    "train_nn()"
   ]
  },
  {
   "cell_type": "code",
   "execution_count": 11,
   "id": "3a741197",
   "metadata": {},
   "outputs": [
    {
     "data": {
      "text/plain": [
       "[<matplotlib.lines.Line2D at 0x13a708dd0>]"
      ]
     },
     "execution_count": 11,
     "metadata": {},
     "output_type": "execute_result"
    },
    {
     "data": {
      "image/png": "[encoded data removed]",
      "text/plain": [
       "<Figure size 640x480 with 1 Axes>"
      ]
     },
     "metadata": {},
     "output_type": "display_data"
    }
   ],
   "source": [
    "plt.plot(lossi)"
   ]
  },
  {
   "cell_type": "code",
   "execution_count": null,
   "id": "04475b13",
   "metadata": {},
   "outputs": [
    {
     "name": "stdout",
     "output_type": "stream",
     "text": [
      "train 2.1215641498565674\n",
      "val 2.183077573776245\n"
     ]
    }
   ],
   "source": [
    "evaluate_nn()"
   ]
  },
  {
   "cell_type": "code",
   "execution_count": null,
   "id": "6de455a8",
   "metadata": {},
   "outputs": [
    {
     "name": "stdout",
     "output_type": "stream",
     "text": [
      "carmahzati.\n",
      "hari.\n",
      "kimir.\n",
      "reh.\n",
      "cassanden.\n",
      "jazhutn.\n",
      "den.\n",
      "rha.\n",
      "kaeli.\n",
      "ner.\n",
      "kiah.\n",
      "maiir.\n",
      "kaleigh.\n",
      "ham.\n",
      "joce.\n",
      "quinthonova.\n",
      "alianni.\n",
      "wanthoniel.\n",
      "yiigan.\n",
      "evells.\n"
     ]
    }
   ],
   "source": [
    "sample_from_nn()"
   ]
  },
  {
   "cell_type": "code",
   "execution_count": null,
   "id": "d3c64e2d",
   "metadata": {},
   "outputs": [],
   "source": [
    "# 1) INITIALIZATION\n",
    "# it is worth noting that the random initialization cause a bit messed up network,\n",
    "# in fact the first loss is 25.0 and the step after decreases to 2.0. Given the activations\n",
    "# we can calculate the loss we expect to have:\n",
    "# 1.1) FIRST LOSS COMPUTATION\n",
    "# we have 27 characters and at the beginning we expect to have a uniform distribution since\n",
    "# no character can be tought to be more probable than the others. The loss is given by:\n",
    "# P(character) = 1/27\n",
    "# the loss is by definition = -log(P(character)) = -log(1/27) = log(27) = 3.2958\n",
    "# at initialization we can set all weights at the same value (e.g. 0.0) to be consistent with what\n",
    "# said above. Logits come from the GEMM of hidden layer and weights and then are added to the bias.\n",
    "# 1.2) LOSS influencing BIAS and WEIGHTS INITIALIZATION\n",
    "logits = h @ W2 + b2 \n",
    "# which comes from: \n",
    "b2 = torch.randn(vocab_size,                      generator=g) * 0.0 # ensuring that the bias is 0\n",
    "W2 = torch.randn((n_hidden, vocab_size),          generator=g) * 0.01 # ensuring that the weights are small\n",
    "# note: weights cannot be set to 0 "
   ]
  },
  {
   "cell_type": "code",
   "execution_count": null,
   "id": "7ca560c9",
   "metadata": {},
   "outputs": [
    {
     "data": {
      "image/png": "[encoded data removed]",
      "text/plain": [
       "<Figure size 640x480 with 1 Axes>"
      ]
     },
     "metadata": {},
     "output_type": "display_data"
    }
   ],
   "source": [
    "plt.hist(hpreact.view(-1).tolist(), 50);"
   ]
  },
  {
   "cell_type": "code",
   "execution_count": null,
   "id": "118fa838",
   "metadata": {},
   "outputs": [
    {
     "data": {
      "image/png": "[encoded data removed]",
      "text/plain": [
       "<Figure size 640x480 with 1 Axes>"
      ]
     },
     "metadata": {},
     "output_type": "display_data"
    }
   ],
   "source": [
    "# VVVVVVVVVVVVVVVVVVVVVVVVVV\n",
    "# VANISHING GRADIENT PROBLEM\n",
    "# ^^^^^^^^^^^^^^^^^^^^^^^^^^\n",
    "plt.hist(h.view(-1).tolist(), 50);\n",
    "# tanh activation plot is really bad: during brackpropagation in tanh layers we compute the gradient as\n",
    "# 1 - tanh(t)^2, so if the (forward pass result of tanh) is too close to -1 r +1 \n",
    "# we have a gradient close to 0. This is called vanishing gradient problem and what happens is that\n",
    "# the backpropagation is killed and stopped at this tanh layer. \n",
    "# This problem happens with most of non-linearity activation functions.\n",
    "\n",
    "# DEAD NEURONS: this happens when no single example activates the tanh (because weight and bias values\n",
    "# make the tanh function to always be in the flat region). This is a problem because the neuron will never\n",
    "# be updated and will NEVER LEARN ANYTHING.\n",
    "\n",
    "# Btw, the problem is that the pre-activation is too large (-20, +20)!\n",
    "hpreact = embcat @ W1 + b1\n",
    "# which comes from: \n",
    "b1 = torch.randn(vocab_size,                      generator=g) * 0.01 \n",
    "W1 = torch.randn((n_hidden, vocab_size),          generator=g) * 0.1 \n",
    "# To maintain a bit of entropy it is possible to set weights and bias to really small values and make\n",
    "# sure that each pre-activation layer is initialized with different values (shown that helps in production)."
   ]
  },
  {
   "cell_type": "code",
   "execution_count": null,
   "id": "2f58df5f",
   "metadata": {},
   "outputs": [
    {
     "name": "stdout",
     "output_type": "stream",
     "text": [
      "11897\n"
     ]
    }
   ],
   "source": [
    "# MLP revisited v2\n",
    "n_embd = 10 # the dimensionality of the character embedding vectors\n",
    "n_hidden = 200 # the number of neurons in the hidden layer of the MLP\n",
    "\n",
    "g = torch.Generator().manual_seed(2147483647) # for reproducibility\n",
    "C  = torch.randn((vocab_size, n_embd),            generator=g)\n",
    "W1 = torch.randn((n_embd * block_size, n_hidden), generator=g) * 0.1\n",
    "b1 = torch.randn(n_hidden,                        generator=g) * 0.01\n",
    "W2 = torch.randn((n_hidden, vocab_size),          generator=g) * 0.01\n",
    "b2 = torch.randn(vocab_size,                      generator=g) * 0.0\n",
    "\n",
    "parameters = [C, W1, b1, W2, b2]\n",
    "print(sum(p.nelement() for p in parameters)) # number of parameters in total\n",
    "for p in parameters:\n",
    "  p.requires_grad = True"
   ]
  },
  {
   "cell_type": "code",
   "execution_count": null,
   "id": "cf966fa7",
   "metadata": {},
   "outputs": [
    {
     "name": "stdout",
     "output_type": "stream",
     "text": [
      "      0/ 200000: 3.3069\n",
      "  10000/ 200000: 2.1900\n",
      "  20000/ 200000: 2.2707\n",
      "  30000/ 200000: 2.4296\n",
      "  40000/ 200000: 1.9041\n",
      "  50000/ 200000: 2.3865\n",
      "  60000/ 200000: 2.3392\n",
      "  70000/ 200000: 2.0873\n",
      "  80000/ 200000: 2.2595\n",
      "  90000/ 200000: 2.1146\n",
      " 100000/ 200000: 1.8817\n",
      " 110000/ 200000: 2.1622\n",
      " 120000/ 200000: 1.8919\n",
      " 130000/ 200000: 2.3128\n",
      " 140000/ 200000: 2.3481\n",
      " 150000/ 200000: 2.1759\n",
      " 160000/ 200000: 1.8034\n",
      " 170000/ 200000: 1.7760\n",
      " 180000/ 200000: 1.8991\n",
      " 190000/ 200000: 1.8666\n"
     ]
    }
   ],
   "source": [
    "train_nn()"
   ]
  },
  {
   "cell_type": "code",
   "execution_count": null,
   "id": "14ab57ff",
   "metadata": {},
   "outputs": [
    {
     "name": "stdout",
     "output_type": "stream",
     "text": [
      "train 2.057901382446289\n",
      "val 2.113706350326538\n"
     ]
    }
   ],
   "source": [
    "evaluate_nn()"
   ]
  },
  {
   "cell_type": "code",
   "execution_count": null,
   "id": "43f4315e",
   "metadata": {},
   "outputs": [
    {
     "name": "stdout",
     "output_type": "stream",
     "text": [
      "tensor(0.0036) tensor(0.9943)\n",
      "tensor(-0.0119) tensor(3.1465)\n",
      "tensor(-0.0038) tensor(0.9950)\n"
     ]
    },
    {
     "data": {
      "image/png": "[encoded data removed]",
      "text/plain": [
       "<Figure size 2000x500 with 2 Axes>"
      ]
     },
     "metadata": {},
     "output_type": "display_data"
    }
   ],
   "source": [
    "# VVVVVVVVVVVVVVVVVVVVV\n",
    "# KAMING INITIALIZATION\n",
    "# ^^^^^^^^^^^^^^^^^^^^^\n",
    "# There is a principle which states how to set the scales which are multiplied by weights and biases\n",
    "# in order to have a good initialization. \n",
    "# Since we aim at having a gaussian uniform distribution of the pre-activation values, we are looking \n",
    "# for a way to maintain the mean of the distribution to 0 and the std err to 1.\n",
    "\n",
    "# ! The principle is that the variance of the input and output of each layer should be the same. \n",
    "\n",
    "# The idea is to set the weights and biases to a value which is given by the division by the\n",
    "# square root of the number of neurons in the layer.\n",
    "\n",
    "# We set the weights to a value which is proportional to gain/sqrt(n). \n",
    "# This means that if we have a layer with 100 neurons and we set the weights\n",
    "# to a value which is proportional to gain/sqrt(100), we will have a good initialization. \n",
    "# Gain has defined values for each non-linearity activation function, \n",
    "# e.g. for tanh it is 1, for ReLU it is sqrt(2), ...\n",
    "\n",
    "x = torch.randn(1000, 10) # 1000 examples, 10 neurons (called FAN IN)\n",
    "w = torch.randn(10, 200) # 10 examples, 200 neurons\n",
    "y = x @ w \n",
    "y_corrected = x @ (w / (10 ** 0.5)) # correct the weights (gain/sqrt(fan_in)-> 1/10 ** 0.5)\n",
    "print(x.mean(), x.std()) \n",
    "print(y.mean(), y.std())\n",
    "print(y_corrected.mean(), y_corrected.std())\n",
    "plt.figure(figsize=(20, 5))\n",
    "plt.subplot(121)\n",
    "plt.hist(x.view(-1).tolist(), 50, density=True);\n",
    "plt.subplot(122)\n",
    "plt.hist(y.view(-1).tolist(), 50, density=True);\n",
    "plt.subplot(122)\n",
    "plt.hist(y_corrected.view(-1).tolist(), 50, density=True);\n",
    "\n",
    "# Nowadays, the Kaming initialization is used by default in most of the libraries, so we don't have to\n",
    "# worry about it. However, it is important to understand the principle behind it and how it works.\n",
    "# In PyTorch, we can use the torch.nn.init module to initialize the weights and biases of the layers.\n",
    "# For example, we can use the torch.nn.init.kaiming_normal_ function to initialize the weights\n",
    "# of a layer with a normal distribution with mean 0 and variance 1/n, where n is the number of neurons\n",
    "# in the layer.\n",
    "# Each non-linerarity has its suggested gain value (see: https://docs.pytorch.org/docs/stable/nn.init.html)"
   ]
  },
  {
   "cell_type": "code",
   "execution_count": null,
   "id": "9337171c",
   "metadata": {},
   "outputs": [
    {
     "name": "stdout",
     "output_type": "stream",
     "text": [
      "11897\n"
     ]
    }
   ],
   "source": [
    "# MLP revisited v3\n",
    "n_embd = 10 # the dimensionality of the character embedding vectors\n",
    "n_hidden = 200 # the number of neurons in the hidden layer of the MLP\n",
    "\n",
    "# kamining initialization parameters\n",
    "gain_tanh = 5/3\n",
    "fan_in = n_embd * block_size # number of input neurons (fan-in)\n",
    "\n",
    "g = torch.Generator().manual_seed(2147483647) # for reproducibility\n",
    "C  = torch.randn((vocab_size, n_embd),            generator=g)\n",
    "W1 = torch.randn((n_embd * block_size, n_hidden), generator=g) * (gain_tanh/(fan_in**0.5)) #* 0.1\n",
    "b1 = torch.randn(n_hidden,                        generator=g) * 0.01\n",
    "W2 = torch.randn((n_hidden, vocab_size),          generator=g) * 0.01\n",
    "b2 = torch.randn(vocab_size,                      generator=g) * 0.0\n",
    "\n",
    "parameters = [C, W1, b1, W2, b2]\n",
    "print(sum(p.nelement() for p in parameters)) # number of parameters in total\n",
    "for p in parameters:\n",
    "  p.requires_grad = True"
   ]
  },
  {
   "cell_type": "code",
   "execution_count": 26,
   "id": "46baa801",
   "metadata": {},
   "outputs": [
    {
     "name": "stdout",
     "output_type": "stream",
     "text": [
      "      0/ 200000: 2.3340\n",
      "  10000/ 200000: 2.1325\n",
      "  20000/ 200000: 1.9218\n",
      "  30000/ 200000: 2.0864\n",
      "  40000/ 200000: 2.1897\n",
      "  50000/ 200000: 2.1622\n",
      "  60000/ 200000: 2.6629\n",
      "  70000/ 200000: 1.6356\n",
      "  80000/ 200000: 2.3372\n",
      "  90000/ 200000: 2.8039\n",
      " 100000/ 200000: 2.2746\n",
      " 110000/ 200000: 2.2937\n",
      " 120000/ 200000: 2.4773\n",
      " 130000/ 200000: 2.1066\n",
      " 140000/ 200000: 1.9376\n",
      " 150000/ 200000: 2.0154\n",
      " 160000/ 200000: 2.0892\n",
      " 170000/ 200000: 1.8959\n",
      " 180000/ 200000: 1.8348\n",
      " 190000/ 200000: 1.8684\n"
     ]
    }
   ],
   "source": [
    "train_nn()"
   ]
  },
  {
   "cell_type": "code",
   "execution_count": 27,
   "id": "9a2d2190",
   "metadata": {},
   "outputs": [
    {
     "name": "stdout",
     "output_type": "stream",
     "text": [
      "train 2.057405471801758\n",
      "val 2.113766670227051\n"
     ]
    }
   ],
   "source": [
    "evaluate_nn()"
   ]
  },
  {
   "cell_type": "code",
   "execution_count": 6,
   "id": "08cab56f",
   "metadata": {},
   "outputs": [
    {
     "name": "stdout",
     "output_type": "stream",
     "text": [
      "12097\n"
     ]
    }
   ],
   "source": [
    "# VVVVVVVVVVVVVVVVVVV\n",
    "# BATCH NORMALIZATION\n",
    "# ^^^^^^^^^^^^^^^^^^^\n",
    "# during train we have the hpreact hidden state and we want it to be roughly a uniform gaussian \n",
    "# distribution in order to tanh to work properly. So the idea is to normalize the hpreact (or more\n",
    "# in general the hidden state) to be a gaussian distribution.\n",
    "\n",
    "\n",
    "# MLP revisited v4\n",
    "n_embd = 10 # the dimensionality of the character embedding vectors\n",
    "n_hidden = 200 # the number of neurons in the hidden layer of the MLP\n",
    "\n",
    "g = torch.Generator().manual_seed(2147483647) # for reproducibility\n",
    "C  = torch.randn((vocab_size, n_embd),            generator=g)\n",
    "W1 = torch.randn((n_embd * block_size, n_hidden), generator=g) * (5/3)/((n_embd * block_size)**0.5) #* 0.2\n",
    "#b1 = torch.randn(n_hidden,                        generator=g) * 0.01\n",
    "W2 = torch.randn((n_hidden, vocab_size),          generator=g) * 0.01\n",
    "b2 = torch.randn(vocab_size,                      generator=g) * 0\n",
    "\n",
    "# BatchNorm parameters\n",
    "bngain = torch.ones((1, n_hidden))\n",
    "bnbias = torch.zeros((1, n_hidden))\n",
    "bnmean_running = torch.zeros((1, n_hidden))\n",
    "bnstd_running = torch.ones((1, n_hidden))\n",
    "\n",
    "parameters = [C, W1, W2, b2, bngain, bnbias]\n",
    "print(sum(p.nelement() for p in parameters)) # number of parameters in total\n",
    "for p in parameters:\n",
    "  p.requires_grad = True\n"
   ]
  },
  {
   "cell_type": "code",
   "execution_count": 9,
   "id": "fdb33828",
   "metadata": {},
   "outputs": [
    {
     "name": "stdout",
     "output_type": "stream",
     "text": [
      "      0/ 200000: 3.3096\n",
      "  10000/ 200000: 2.4783\n",
      "  20000/ 200000: 1.9996\n",
      "  30000/ 200000: 2.5822\n",
      "  40000/ 200000: 2.0700\n",
      "  50000/ 200000: 2.3397\n",
      "  60000/ 200000: 2.4592\n",
      "  70000/ 200000: 2.5765\n",
      "  80000/ 200000: 2.0567\n",
      "  90000/ 200000: 2.1207\n",
      " 100000/ 200000: 2.1043\n",
      " 110000/ 200000: 2.0552\n",
      " 120000/ 200000: 2.2931\n",
      " 130000/ 200000: 2.5750\n",
      " 140000/ 200000: 2.1613\n",
      " 150000/ 200000: 2.0641\n",
      " 160000/ 200000: 1.9199\n",
      " 170000/ 200000: 2.3214\n",
      " 180000/ 200000: 2.0537\n",
      " 190000/ 200000: 1.9166\n"
     ]
    }
   ],
   "source": [
    "def train_nn_batch_norm():\n",
    "  global bnmean_running, bnstd_running\n",
    "  # same optimization as last time\n",
    "  max_steps = 200000\n",
    "  batch_size = 32\n",
    "  lossi = []\n",
    "\n",
    "  for i in range(max_steps):\n",
    "    \n",
    "    # minibatch construct\n",
    "    ix = torch.randint(0, Xtr.shape[0], (batch_size,), generator=g)\n",
    "    Xb, Yb = Xtr[ix], Ytr[ix] # batch X,Y\n",
    "    \n",
    "    # forward pass\n",
    "    emb = C[Xb] # embed the characters into vectors\n",
    "    embcat = emb.view(emb.shape[0], -1) # concatenate the vectors\n",
    "    # Linear layer\n",
    "    hpreact = embcat @ W1 #+ b1 # hidden layer pre-activation\n",
    "    # BatchNorm layer\n",
    "    # -------------------------------------------------------------\n",
    "    bnmeani = hpreact.mean(0, keepdim=True)\n",
    "    bnstdi = hpreact.std(0, keepdim=True)\n",
    "    hpreact = bngain * (hpreact - bnmeani) / bnstdi + bnbias\n",
    "    with torch.no_grad():\n",
    "      bnmean_running = 0.999 * bnmean_running + 0.001 * bnmeani\n",
    "      bnstd_running = 0.999 * bnstd_running + 0.001 * bnstdi\n",
    "    # -------------------------------------------------------------\n",
    "    # Non-linearity\n",
    "    h = torch.tanh(hpreact) # hidden layer\n",
    "    logits = h @ W2 + b2 # output layer\n",
    "    loss = F.cross_entropy(logits, Yb) # loss function\n",
    "    \n",
    "    # backward pass\n",
    "    for p in parameters:\n",
    "      p.grad = None\n",
    "    loss.backward()\n",
    "    \n",
    "    # update\n",
    "    lr = 0.1 if i < 100000 else 0.01 # step learning rate decay\n",
    "    for p in parameters:\n",
    "      p.data += -lr * p.grad\n",
    "\n",
    "    # track stats\n",
    "    if i % 10000 == 0: # print every once in a while\n",
    "      print(f'{i:7d}/{max_steps:7d}: {loss.item():.4f}')\n",
    "    lossi.append(loss.log10().item())\n",
    "train_nn_batch_norm()"
   ]
  },
  {
   "cell_type": "code",
   "execution_count": 11,
   "id": "9948dd58",
   "metadata": {},
   "outputs": [
    {
     "name": "stdout",
     "output_type": "stream",
     "text": [
      "train 2.0671029090881348\n",
      "val 2.1059861183166504\n"
     ]
    }
   ],
   "source": [
    "def estimate_mean_std_after_training():\n",
    "  # calibrate the batch norm at the end of training. This allows to forward a single example\n",
    "  # without having to pass a batch of examples.\n",
    "  with torch.no_grad():\n",
    "    # pass the training set through\n",
    "    emb = C[Xtr]\n",
    "    embcat = emb.view(emb.shape[0], -1)\n",
    "    hpreact = embcat @ W1 # + b1\n",
    "    # measure the mean/std over the entire training set\n",
    "    bnmean = hpreact.mean(0, keepdim=True)\n",
    "    bnstd = hpreact.std(0, keepdim=True)\n",
    "  # in the end nobody wants to compute these values after training, so we can estimate them \n",
    "  # at \"run time\"\n",
    "\n",
    "def evaluate_nn_batch_norm():\n",
    "  @torch.no_grad() # this decorator disables gradient tracking\n",
    "  def split_loss(split):\n",
    "    x,y = {\n",
    "      'train': (Xtr, Ytr),\n",
    "      'val': (Xdev, Ydev),\n",
    "      'test': (Xte, Yte),\n",
    "    }[split]\n",
    "    emb = C[x] # (N, block_size, n_embd)\n",
    "    embcat = emb.view(emb.shape[0], -1) # concat into (N, block_size * n_embd)\n",
    "\n",
    "    hpreact = embcat @ W1 #+ b1\n",
    "    hpreact = bngain * (hpreact - bnmean_running) / bnstd_running + bnbias\n",
    "    \n",
    "    h = torch.tanh(hpreact) # (N, n_hidden)\n",
    "    logits = h @ W2 + b2 # (N, vocab_size)\n",
    "    loss = F.cross_entropy(logits, y)\n",
    "    print(split, loss.item())\n",
    "\n",
    "  split_loss('train')\n",
    "  split_loss('val')\n",
    "evaluate_nn_batch_norm()"
   ]
  },
  {
   "cell_type": "code",
   "execution_count": null,
   "id": "046b43bb",
   "metadata": {},
   "outputs": [],
   "source": [
    "# loss log:\n",
    "\n",
    "# Original loss: \n",
    "# train 2.1215641498565674\n",
    "# val 2.183077573776245\n",
    "\n",
    "# fix softmax confidently wrong (setting w2, b2 to small values):\n",
    "# train 2.0695888996124268\n",
    "# val 2.131074905395508\n",
    "\n",
    "# fix tanh layer too saturated at init (setting w1, b1 to small values):\n",
    "# train 2.057901382446289\n",
    "# val 2.113706350326538\n",
    "\n",
    "# kaiming initialization (setting w1); not a big difference but we have no magic numbers anymore:\n",
    "# train 2.057405471801758\n",
    "# val 2.113766670227051\n",
    "\n",
    "# batch normalization layer:\n",
    "# train 2.0671029090881348\n",
    "# val 2.1059861183166504"
   ]
  }
 ],
 "metadata": {
  "kernelspec": {
   "display_name": "base",
   "language": "python",
   "name": "python3"
  },
  "language_info": {
   "codemirror_mode": {
    "name": "ipython",
    "version": 3
   },
   "file_extension": ".py",
   "mimetype": "text/x-python",
   "name": "python",
   "nbconvert_exporter": "python",
   "pygments_lexer": "ipython3",
   "version": "3.11.7"
  }
 },
 "nbformat": 4,
 "nbformat_minor": 5
}
